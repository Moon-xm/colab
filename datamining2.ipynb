{
  "nbformat": 4,
  "nbformat_minor": 0,
  "metadata": {
    "colab": {
      "name": "datamining2.ipynb",
      "provenance": [],
      "collapsed_sections": [],
      "authorship_tag": "ABX9TyP2WgRtMm739VvYMF1nXrDN",
      "include_colab_link": true
    },
    "kernelspec": {
      "name": "python3",
      "display_name": "Python 3"
    }
  },
  "cells": [
    {
      "cell_type": "markdown",
      "metadata": {
        "id": "view-in-github",
        "colab_type": "text"
      },
      "source": [
        "<a href=\"https://colab.research.google.com/github/Moon-xm/colab/blob/main/datamining2.ipynb\" target=\"_parent\"><img src=\"https://colab.research.google.com/assets/colab-badge.svg\" alt=\"Open In Colab\"/></a>"
      ]
    },
    {
      "cell_type": "code",
      "metadata": {
        "colab": {
          "base_uri": "https://localhost:8080/"
        },
        "id": "BP5wuHgM1aiX",
        "outputId": "0e74b459-2902-42d6-fa27-56bdbbe5b110"
      },
      "source": [
        "from google.colab import drive\r\n",
        "drive.mount(\"/content/drive\")"
      ],
      "execution_count": 3,
      "outputs": [
        {
          "output_type": "stream",
          "text": [
            "Mounted at /content/drive\n"
          ],
          "name": "stdout"
        }
      ]
    },
    {
      "cell_type": "code",
      "metadata": {
        "colab": {
          "base_uri": "https://localhost:8080/"
        },
        "id": "SuqLBqbH1r7O",
        "outputId": "e0ed4af6-1cf9-4b27-dcf2-8887e7058a7d"
      },
      "source": [
        "cd drive/MyDrive/"
      ],
      "execution_count": 4,
      "outputs": [
        {
          "output_type": "stream",
          "text": [
            "/content/drive/MyDrive\n"
          ],
          "name": "stdout"
        }
      ]
    },
    {
      "cell_type": "code",
      "metadata": {
        "id": "vivoyFXI2BmD"
      },
      "source": [
        "!mkdir datamining2"
      ],
      "execution_count": 5,
      "outputs": []
    },
    {
      "cell_type": "code",
      "metadata": {
        "colab": {
          "base_uri": "https://localhost:8080/"
        },
        "id": "9ybmqcJ02FMX",
        "outputId": "08a3e864-bf21-4885-fdc7-2cb0461342d8"
      },
      "source": [
        "cd datamining2/"
      ],
      "execution_count": 6,
      "outputs": [
        {
          "output_type": "stream",
          "text": [
            "/content/drive/MyDrive/datamining2\n"
          ],
          "name": "stdout"
        }
      ]
    },
    {
      "cell_type": "code",
      "metadata": {
        "colab": {
          "base_uri": "https://localhost:8080/"
        },
        "id": "qQrT-NVY2G7t",
        "outputId": "5dee563a-78ea-44e3-c981-3bd6c1143019"
      },
      "source": [
        "!git clone https://github.com/hscspring/Multi-Label-Text-Classification-for-Chinese"
      ],
      "execution_count": 7,
      "outputs": [
        {
          "output_type": "stream",
          "text": [
            "Cloning into 'Multi-Label-Text-Classification-for-Chinese'...\n",
            "remote: Enumerating objects: 68, done.\u001b[K\n",
            "remote: Counting objects: 100% (68/68), done.\u001b[K\n",
            "remote: Compressing objects: 100% (51/51), done.\u001b[K\n",
            "remote: Total 68 (delta 7), reused 63 (delta 5), pack-reused 0\u001b[K\n",
            "Unpacking objects: 100% (68/68), done.\n"
          ],
          "name": "stdout"
        }
      ]
    },
    {
      "cell_type": "code",
      "metadata": {
        "colab": {
          "base_uri": "https://localhost:8080/"
        },
        "id": "biCgFSSG2Mzj",
        "outputId": "072eb93a-5ed1-439f-8643-507f1a66a08d"
      },
      "source": [
        "cd Multi-Label-Text-Classification-for-Chinese/"
      ],
      "execution_count": 9,
      "outputs": [
        {
          "output_type": "stream",
          "text": [
            "/content/drive/MyDrive/datamining2/Multi-Label-Text-Classification-for-Chinese\n"
          ],
          "name": "stdout"
        }
      ]
    },
    {
      "cell_type": "code",
      "metadata": {
        "colab": {
          "base_uri": "https://localhost:8080/"
        },
        "id": "PQ5lUUha2xOn",
        "outputId": "d0a251a2-4167-44b6-bc1b-60beaae8c635"
      },
      "source": [
        "!pip install -r requirements.txt"
      ],
      "execution_count": 10,
      "outputs": [
        {
          "output_type": "stream",
          "text": [
            "Requirement already satisfied: tqdm in /usr/local/lib/python3.6/dist-packages (from -r requirements.txt (line 1)) (4.41.1)\n",
            "Collecting pnlp\n",
            "  Downloading https://files.pythonhosted.org/packages/30/df/633bb45440b8f91ab1858a5233c11c50b5bb14512fac31704d5c53534a95/pnlp-0.3.5-py3-none-any.whl\n",
            "Collecting demjson\n",
            "\u001b[?25l  Downloading https://files.pythonhosted.org/packages/96/67/6db789e2533158963d4af689f961b644ddd9200615b8ce92d6cad695c65a/demjson-2.2.4.tar.gz (131kB)\n",
            "\u001b[K     |████████████████████████████████| 133kB 11.8MB/s \n",
            "\u001b[?25hCollecting pytorch-transformers==1.1.0\n",
            "\u001b[?25l  Downloading https://files.pythonhosted.org/packages/50/89/ad0d6bb932d0a51793eaabcf1617a36ff530dc9ab9e38f765a35dc293306/pytorch_transformers-1.1.0-py3-none-any.whl (158kB)\n",
            "\u001b[K     |████████████████████████████████| 163kB 18.4MB/s \n",
            "\u001b[?25hRequirement already satisfied: matplotlib in /usr/local/lib/python3.6/dist-packages (from -r requirements.txt (line 5)) (3.2.2)\n",
            "Requirement already satisfied: jieba in /usr/local/lib/python3.6/dist-packages (from -r requirements.txt (line 6)) (0.42.1)\n",
            "Requirement already satisfied: pandas in /usr/local/lib/python3.6/dist-packages (from -r requirements.txt (line 7)) (1.1.5)\n",
            "Requirement already satisfied: scikit-learn in /usr/local/lib/python3.6/dist-packages (from -r requirements.txt (line 8)) (0.22.2.post1)\n",
            "Requirement already satisfied: pyyaml in /usr/local/lib/python3.6/dist-packages (from pnlp->-r requirements.txt (line 2)) (3.13)\n",
            "Collecting addict\n",
            "  Downloading https://files.pythonhosted.org/packages/6a/00/b08f23b7d7e1e14ce01419a467b583edbb93c6cdb8654e54a9cc579cd61f/addict-2.4.0-py3-none-any.whl\n",
            "Requirement already satisfied: numpy in /usr/local/lib/python3.6/dist-packages (from pnlp->-r requirements.txt (line 2)) (1.19.4)\n",
            "Requirement already satisfied: torch>=1.0.0 in /usr/local/lib/python3.6/dist-packages (from pytorch-transformers==1.1.0->-r requirements.txt (line 4)) (1.7.0+cu101)\n",
            "Collecting sentencepiece\n",
            "\u001b[?25l  Downloading https://files.pythonhosted.org/packages/e5/2d/6d4ca4bef9a67070fa1cac508606328329152b1df10bdf31fb6e4e727894/sentencepiece-0.1.94-cp36-cp36m-manylinux2014_x86_64.whl (1.1MB)\n",
            "\u001b[K     |████████████████████████████████| 1.1MB 20.8MB/s \n",
            "\u001b[?25hRequirement already satisfied: regex in /usr/local/lib/python3.6/dist-packages (from pytorch-transformers==1.1.0->-r requirements.txt (line 4)) (2019.12.20)\n",
            "Requirement already satisfied: requests in /usr/local/lib/python3.6/dist-packages (from pytorch-transformers==1.1.0->-r requirements.txt (line 4)) (2.23.0)\n",
            "Collecting boto3\n",
            "\u001b[?25l  Downloading https://files.pythonhosted.org/packages/28/78/4067ce89180daf0b2027df4b3e4c4734d73b99c3a664d262a4c4d5ac1021/boto3-1.16.47-py2.py3-none-any.whl (130kB)\n",
            "\u001b[K     |████████████████████████████████| 133kB 36.6MB/s \n",
            "\u001b[?25hRequirement already satisfied: cycler>=0.10 in /usr/local/lib/python3.6/dist-packages (from matplotlib->-r requirements.txt (line 5)) (0.10.0)\n",
            "Requirement already satisfied: kiwisolver>=1.0.1 in /usr/local/lib/python3.6/dist-packages (from matplotlib->-r requirements.txt (line 5)) (1.3.1)\n",
            "Requirement already satisfied: python-dateutil>=2.1 in /usr/local/lib/python3.6/dist-packages (from matplotlib->-r requirements.txt (line 5)) (2.8.1)\n",
            "Requirement already satisfied: pyparsing!=2.0.4,!=2.1.2,!=2.1.6,>=2.0.1 in /usr/local/lib/python3.6/dist-packages (from matplotlib->-r requirements.txt (line 5)) (2.4.7)\n",
            "Requirement already satisfied: pytz>=2017.2 in /usr/local/lib/python3.6/dist-packages (from pandas->-r requirements.txt (line 7)) (2018.9)\n",
            "Requirement already satisfied: joblib>=0.11 in /usr/local/lib/python3.6/dist-packages (from scikit-learn->-r requirements.txt (line 8)) (1.0.0)\n",
            "Requirement already satisfied: scipy>=0.17.0 in /usr/local/lib/python3.6/dist-packages (from scikit-learn->-r requirements.txt (line 8)) (1.4.1)\n",
            "Requirement already satisfied: dataclasses in /usr/local/lib/python3.6/dist-packages (from torch>=1.0.0->pytorch-transformers==1.1.0->-r requirements.txt (line 4)) (0.8)\n",
            "Requirement already satisfied: future in /usr/local/lib/python3.6/dist-packages (from torch>=1.0.0->pytorch-transformers==1.1.0->-r requirements.txt (line 4)) (0.16.0)\n",
            "Requirement already satisfied: typing-extensions in /usr/local/lib/python3.6/dist-packages (from torch>=1.0.0->pytorch-transformers==1.1.0->-r requirements.txt (line 4)) (3.7.4.3)\n",
            "Requirement already satisfied: idna<3,>=2.5 in /usr/local/lib/python3.6/dist-packages (from requests->pytorch-transformers==1.1.0->-r requirements.txt (line 4)) (2.10)\n",
            "Requirement already satisfied: certifi>=2017.4.17 in /usr/local/lib/python3.6/dist-packages (from requests->pytorch-transformers==1.1.0->-r requirements.txt (line 4)) (2020.12.5)\n",
            "Requirement already satisfied: chardet<4,>=3.0.2 in /usr/local/lib/python3.6/dist-packages (from requests->pytorch-transformers==1.1.0->-r requirements.txt (line 4)) (3.0.4)\n",
            "Requirement already satisfied: urllib3!=1.25.0,!=1.25.1,<1.26,>=1.21.1 in /usr/local/lib/python3.6/dist-packages (from requests->pytorch-transformers==1.1.0->-r requirements.txt (line 4)) (1.24.3)\n",
            "Collecting s3transfer<0.4.0,>=0.3.0\n",
            "\u001b[?25l  Downloading https://files.pythonhosted.org/packages/69/79/e6afb3d8b0b4e96cefbdc690f741d7dd24547ff1f94240c997a26fa908d3/s3transfer-0.3.3-py2.py3-none-any.whl (69kB)\n",
            "\u001b[K     |████████████████████████████████| 71kB 7.3MB/s \n",
            "\u001b[?25hCollecting jmespath<1.0.0,>=0.7.1\n",
            "  Downloading https://files.pythonhosted.org/packages/07/cb/5f001272b6faeb23c1c9e0acc04d48eaaf5c862c17709d20e3469c6e0139/jmespath-0.10.0-py2.py3-none-any.whl\n",
            "Collecting botocore<1.20.0,>=1.19.47\n",
            "\u001b[?25l  Downloading https://files.pythonhosted.org/packages/8f/4a/16ffdfc33d93f02604ae9ed1ddb6369030b6f61b583f31dc84e0d0da05c1/botocore-1.19.47-py2.py3-none-any.whl (7.2MB)\n",
            "\u001b[K     |████████████████████████████████| 7.2MB 33.2MB/s \n",
            "\u001b[?25hRequirement already satisfied: six in /usr/local/lib/python3.6/dist-packages (from cycler>=0.10->matplotlib->-r requirements.txt (line 5)) (1.15.0)\n",
            "Building wheels for collected packages: demjson\n",
            "  Building wheel for demjson (setup.py) ... \u001b[?25l\u001b[?25hdone\n",
            "  Created wheel for demjson: filename=demjson-2.2.4-cp36-none-any.whl size=73547 sha256=84a22719246bd7dc4a5f2129b4bc260737b0294aabca68a4dbd43769229ab75e\n",
            "  Stored in directory: /root/.cache/pip/wheels/c5/d2/ab/a54fb5ea53ac3badba098160e8452fa126a51febda80440ded\n",
            "Successfully built demjson\n",
            "\u001b[31mERROR: botocore 1.19.47 has requirement urllib3<1.27,>=1.25.4; python_version != \"3.4\", but you'll have urllib3 1.24.3 which is incompatible.\u001b[0m\n",
            "Installing collected packages: addict, pnlp, demjson, sentencepiece, jmespath, botocore, s3transfer, boto3, pytorch-transformers\n",
            "Successfully installed addict-2.4.0 boto3-1.16.47 botocore-1.19.47 demjson-2.2.4 jmespath-0.10.0 pnlp-0.3.5 pytorch-transformers-1.1.0 s3transfer-0.3.3 sentencepiece-0.1.94\n"
          ],
          "name": "stdout"
        }
      ]
    },
    {
      "cell_type": "code",
      "metadata": {
        "colab": {
          "base_uri": "https://localhost:8080/"
        },
        "id": "1wjuajc-23KN",
        "outputId": "33fa9231-9ea2-47f1-b8b0-d4fa2ff731bb"
      },
      "source": [
        "!python --version"
      ],
      "execution_count": 13,
      "outputs": [
        {
          "output_type": "stream",
          "text": [
            "Python 3.6.9\n"
          ],
          "name": "stdout"
        }
      ]
    },
    {
      "cell_type": "code",
      "metadata": {
        "colab": {
          "base_uri": "https://localhost:8080/"
        },
        "id": "jMJDOakm297x",
        "outputId": "08f42fe2-b010-4692-ff1b-fb854db03175"
      },
      "source": [
        "!pwd"
      ],
      "execution_count": 14,
      "outputs": [
        {
          "output_type": "stream",
          "text": [
            "/content/drive/MyDrive/datamining2/Multi-Label-Text-Classification-for-Chinese\n"
          ],
          "name": "stdout"
        }
      ]
    },
    {
      "cell_type": "code",
      "metadata": {
        "colab": {
          "base_uri": "https://localhost:8080/"
        },
        "id": "mU6XF90z31PC",
        "outputId": "cf017a7a-cf43-4d94-f2d4-fa3c1a4467ec"
      },
      "source": [
        "!wget https://cail.oss-cn-qingdao.aliyuncs.com/CAIL2018_ALL_DATA.zip"
      ],
      "execution_count": 15,
      "outputs": [
        {
          "output_type": "stream",
          "text": [
            "--2021-01-03 01:32:09--  https://cail.oss-cn-qingdao.aliyuncs.com/CAIL2018_ALL_DATA.zip\n",
            "Resolving cail.oss-cn-qingdao.aliyuncs.com (cail.oss-cn-qingdao.aliyuncs.com)... 47.104.36.46\n",
            "Connecting to cail.oss-cn-qingdao.aliyuncs.com (cail.oss-cn-qingdao.aliyuncs.com)|47.104.36.46|:443... connected.\n",
            "HTTP request sent, awaiting response... 200 OK\n",
            "Length: 984551626 (939M) [application/zip]\n",
            "Saving to: ‘CAIL2018_ALL_DATA.zip’\n",
            "\n",
            "CAIL2018_ALL_DATA.z 100%[===================>] 938.94M  1.58MB/s    in 10m 39s \n",
            "\n",
            "2021-01-03 01:42:49 (1.47 MB/s) - ‘CAIL2018_ALL_DATA.zip’ saved [984551626/984551626]\n",
            "\n"
          ],
          "name": "stdout"
        }
      ]
    },
    {
      "cell_type": "code",
      "metadata": {
        "id": "ay1_SCJM6-Rv"
      },
      "source": [
        "!mv /content/drive/MyDrive/datamining2/Multi-Label-Text-Classification-for-Chinese/CAIL2018_ALL_DATA.zip /content/drive/MyDrive/datamining2/Multi-Label-Text-Classification-for-Chinese/mltc/dataset"
      ],
      "execution_count": 17,
      "outputs": []
    },
    {
      "cell_type": "code",
      "metadata": {
        "colab": {
          "base_uri": "https://localhost:8080/"
        },
        "id": "ghY5oj9k72GJ",
        "outputId": "ec54e6b9-ea50-4955-eb8a-db14154132df"
      },
      "source": [
        "!pwd"
      ],
      "execution_count": 18,
      "outputs": [
        {
          "output_type": "stream",
          "text": [
            "/content/drive/My Drive/datamining2/Multi-Label-Text-Classification-for-Chinese\n"
          ],
          "name": "stdout"
        }
      ]
    },
    {
      "cell_type": "code",
      "metadata": {
        "colab": {
          "base_uri": "https://localhost:8080/"
        },
        "id": "zh8BVfj_75Rn",
        "outputId": "37346a19-81f3-4431-b67a-9bbd955a50e4"
      },
      "source": [
        "cd /content/drive/MyDrive/datamining2/Multi-Label-Text-Classification-for-Chinese/mltc/dataset"
      ],
      "execution_count": 19,
      "outputs": [
        {
          "output_type": "stream",
          "text": [
            "/content/drive/MyDrive/datamining2/Multi-Label-Text-Classification-for-Chinese/mltc/dataset\n"
          ],
          "name": "stdout"
        }
      ]
    },
    {
      "cell_type": "code",
      "metadata": {
        "colab": {
          "base_uri": "https://localhost:8080/"
        },
        "id": "aL2dzNUs79SC",
        "outputId": "c685e5eb-6b19-406f-e156-330a23b8a289"
      },
      "source": [
        "!unzip CAIL2018_ALL_DATA.zip"
      ],
      "execution_count": 20,
      "outputs": [
        {
          "output_type": "stream",
          "text": [
            "Archive:  CAIL2018_ALL_DATA.zip\n",
            "   creating: final_all_data/\n",
            "  inflating: final_all_data/final_test.json  \n",
            "  inflating: final_all_data/README.md  \n",
            "   creating: final_all_data/exercise_contest/\n",
            "  inflating: final_all_data/exercise_contest/data_valid.json  \n",
            "  inflating: final_all_data/exercise_contest/data_test.json  \n",
            "  inflating: final_all_data/exercise_contest/data_train.json  \n",
            "   creating: final_all_data/first_stage/\n",
            "  inflating: final_all_data/first_stage/train.json  \n",
            "  inflating: final_all_data/first_stage/test.json  \n",
            "   creating: final_all_data/restData/\n",
            "  inflating: final_all_data/restData/rest_data.json  \n"
          ],
          "name": "stdout"
        }
      ]
    },
    {
      "cell_type": "markdown",
      "metadata": {
        "id": "l9QQVqF06qhP"
      },
      "source": [
        "刑事文书BERT下载及解压"
      ]
    },
    {
      "cell_type": "code",
      "metadata": {
        "colab": {
          "base_uri": "https://localhost:8080/"
        },
        "id": "w9UQdIPx83zP",
        "outputId": "6e1a7480-59d7-433e-e2ab-9405f19366a9"
      },
      "source": [
        "cd /content/drive/MyDrive/datamining2/Multi-Label-Text-Classification-for-Chinese/mltc/pretrain/bert/base-uncased"
      ],
      "execution_count": 22,
      "outputs": [
        {
          "output_type": "stream",
          "text": [
            "/content/drive/MyDrive/datamining2/Multi-Label-Text-Classification-for-Chinese/mltc/pretrain/bert/base-uncased\n"
          ],
          "name": "stdout"
        }
      ]
    },
    {
      "cell_type": "code",
      "metadata": {
        "colab": {
          "base_uri": "https://localhost:8080/"
        },
        "id": "qKkXRNq334Y8",
        "outputId": "5c71bf54-4458-4d46-d716-e296c654e972"
      },
      "source": [
        "!wget https://thunlp.oss-cn-qingdao.aliyuncs.com/bert/xs.zip"
      ],
      "execution_count": 23,
      "outputs": [
        {
          "output_type": "stream",
          "text": [
            "--2021-01-03 01:54:07--  https://thunlp.oss-cn-qingdao.aliyuncs.com/bert/xs.zip\n",
            "Resolving thunlp.oss-cn-qingdao.aliyuncs.com (thunlp.oss-cn-qingdao.aliyuncs.com)... 47.104.38.189\n",
            "Connecting to thunlp.oss-cn-qingdao.aliyuncs.com (thunlp.oss-cn-qingdao.aliyuncs.com)|47.104.38.189|:443... connected.\n",
            "HTTP request sent, awaiting response... 200 OK\n",
            "Length: 388236676 (370M) [application/zip]\n",
            "Saving to: ‘xs.zip’\n",
            "\n",
            "xs.zip              100%[===================>] 370.25M  1.53MB/s    in 2m 18s  \n",
            "\n",
            "2021-01-03 01:56:27 (2.68 MB/s) - ‘xs.zip’ saved [388236676/388236676]\n",
            "\n",
            "unzip:  cannot find or open ms.zip, ms.zip.zip or ms.zip.ZIP.\n"
          ],
          "name": "stdout"
        }
      ]
    },
    {
      "cell_type": "code",
      "metadata": {
        "colab": {
          "base_uri": "https://localhost:8080/"
        },
        "id": "aDKRyS3N7KB5",
        "outputId": "d292d00b-8f80-4948-8366-2e0894cfd34c"
      },
      "source": [
        "!ls"
      ],
      "execution_count": 25,
      "outputs": [
        {
          "output_type": "stream",
          "text": [
            "__init__.py  xs.zip\n"
          ],
          "name": "stdout"
        }
      ]
    },
    {
      "cell_type": "code",
      "metadata": {
        "colab": {
          "base_uri": "https://localhost:8080/"
        },
        "id": "QU8KDbd997BK",
        "outputId": "68424588-fbda-4bc2-c485-1561fea33b58"
      },
      "source": [
        "!unzip xs.zip"
      ],
      "execution_count": 26,
      "outputs": [
        {
          "output_type": "stream",
          "text": [
            "Archive:  xs.zip\n",
            "   creating: xs/\n",
            "  inflating: xs/vocab.txt            \n",
            "  inflating: xs/pytorch_model.bin    \n",
            "  inflating: xs/bert_config.json     \n"
          ],
          "name": "stdout"
        }
      ]
    },
    {
      "cell_type": "code",
      "metadata": {
        "colab": {
          "base_uri": "https://localhost:8080/"
        },
        "id": "lQZ_WBSR-B_P",
        "outputId": "05ad002d-cb08-498f-b122-8378095007f0"
      },
      "source": [
        "cd /content/drive/MyDrive/datamining2/Multi-Label-Text-Classification-for-Chinese/mltc"
      ],
      "execution_count": 27,
      "outputs": [
        {
          "output_type": "stream",
          "text": [
            "/content/drive/MyDrive/datamining2/Multi-Label-Text-Classification-for-Chinese/mltc\n"
          ],
          "name": "stdout"
        }
      ]
    },
    {
      "cell_type": "code",
      "metadata": {
        "colab": {
          "base_uri": "https://localhost:8080/"
        },
        "id": "qZihqYimB388",
        "outputId": "7cadbbaa-7c51-4370-e854-7a5651602f3e"
      },
      "source": [
        "!sh run.sh"
      ],
      "execution_count": 29,
      "outputs": [
        {
          "output_type": "stream",
          "text": [
            "Traceback (most recent call last):\n",
            "  File \"main.py\", line 8, in <module>\n",
            "    from pnlp import piop\n",
            "  File \"/usr/local/lib/python3.6/dist-packages/pnlp/__init__.py\", line 3, in <module>\n",
            "    from .pcut import cut_sentence, cut_zhchar, cut_part, combine_bucket\n",
            "  File \"/usr/local/lib/python3.6/dist-packages/pnlp/pcut.py\", line 81, in <module>\n",
            "    with_offset: bool = False) -> list:\n",
            "AttributeError: module 're' has no attribute 'Pattern'\n",
            "Traceback (most recent call last):\n",
            "  File \"main.py\", line 8, in <module>\n",
            "    from pnlp import piop\n",
            "  File \"/usr/local/lib/python3.6/dist-packages/pnlp/__init__.py\", line 3, in <module>\n",
            "    from .pcut import cut_sentence, cut_zhchar, cut_part, combine_bucket\n",
            "  File \"/usr/local/lib/python3.6/dist-packages/pnlp/pcut.py\", line 81, in <module>\n",
            "    with_offset: bool = False) -> list:\n",
            "AttributeError: module 're' has no attribute 'Pattern'\n",
            "Traceback (most recent call last):\n",
            "  File \"main.py\", line 8, in <module>\n",
            "    from pnlp import piop\n",
            "  File \"/usr/local/lib/python3.6/dist-packages/pnlp/__init__.py\", line 3, in <module>\n",
            "    from .pcut import cut_sentence, cut_zhchar, cut_part, combine_bucket\n",
            "  File \"/usr/local/lib/python3.6/dist-packages/pnlp/pcut.py\", line 81, in <module>\n",
            "    with_offset: bool = False) -> list:\n",
            "AttributeError: module 're' has no attribute 'Pattern'\n"
          ],
          "name": "stdout"
        }
      ]
    },
    {
      "cell_type": "code",
      "metadata": {
        "colab": {
          "base_uri": "https://localhost:8080/"
        },
        "id": "77n8mkmwCRrp",
        "outputId": "cf4e6da4-f019-4e66-c616-9cd29ac21657"
      },
      "source": [
        "!python main.py --do_data"
      ],
      "execution_count": 33,
      "outputs": [
        {
          "output_type": "stream",
          "text": [
            "Traceback (most recent call last):\n",
            "  File \"main.py\", line 8, in <module>\n",
            "    from pnlp import piop\n",
            "  File \"/usr/local/lib/python3.6/dist-packages/pnlp/__init__.py\", line 3, in <module>\n",
            "    from .pcut import cut_sentence, cut_zhchar, cut_part, combine_bucket\n",
            "  File \"/usr/local/lib/python3.6/dist-packages/pnlp/pcut.py\", line 81, in <module>\n",
            "    with_offset: bool = False) -> list:\n",
            "AttributeError: module 're' has no attribute 'Pattern'\n"
          ],
          "name": "stdout"
        }
      ]
    },
    {
      "cell_type": "code",
      "metadata": {
        "colab": {
          "base_uri": "https://localhost:8080/"
        },
        "id": "3-2zUgG8Cz7M",
        "outputId": "9ec29d0d-ebe9-4e43-aa9b-f30e043f7c3d"
      },
      "source": [
        "!pip show pnlp"
      ],
      "execution_count": 39,
      "outputs": [
        {
          "output_type": "stream",
          "text": [
            "Name: pnlp\n",
            "Version: 0.3.5\n",
            "Summary: A pre-processing tool for NLP.\n",
            "Home-page: https://github.com/hscspring/pnlp\n",
            "Author: Yam\n",
            "Author-email: haoshaochun@gmail.com\n",
            "License: UNKNOWN\n",
            "Location: /usr/local/lib/python3.6/dist-packages\n",
            "Requires: pyyaml, addict, numpy\n",
            "Required-by: \n"
          ],
          "name": "stdout"
        }
      ]
    },
    {
      "cell_type": "code",
      "metadata": {
        "colab": {
          "base_uri": "https://localhost:8080/"
        },
        "id": "FhKq0ZptFDOT",
        "outputId": "bdf239f9-de76-461e-daa4-bf001cf441c2"
      },
      "source": [
        "!python main.py --do_data --train_data_num 100"
      ],
      "execution_count": 46,
      "outputs": [
        {
          "output_type": "stream",
          "text": [
            "Traceback (most recent call last):\n",
            "  File \"main.py\", line 8, in <module>\n",
            "    from pnlp import piop\n",
            "  File \"/usr/local/lib/python3.6/dist-packages/pnlp/__init__.py\", line 3, in <module>\n",
            "    from .pcut import cut_sentence, cut_zhchar, cut_part, combine_bucket\n",
            "  File \"/usr/local/lib/python3.6/dist-packages/pnlp/pcut.py\", line 81, in <module>\n",
            "    with_offset: bool = False) -> list:\n",
            "AttributeError: module 're' has no attribute 'Pattern'\n"
          ],
          "name": "stdout"
        }
      ]
    },
    {
      "cell_type": "code",
      "metadata": {
        "colab": {
          "base_uri": "https://localhost:8080/"
        },
        "id": "NTxTmV_qFOc5",
        "outputId": "4b3f65cd-ea99-49a9-fe34-e3bc024bcfd1"
      },
      "source": [
        "!python --version"
      ],
      "execution_count": 48,
      "outputs": [
        {
          "output_type": "stream",
          "text": [
            "Python 3.6.9\n"
          ],
          "name": "stdout"
        }
      ]
    },
    {
      "cell_type": "code",
      "metadata": {
        "colab": {
          "base_uri": "https://localhost:8080/"
        },
        "id": "Cr3_vLYTGYU4",
        "outputId": "67b81938-5e4d-4cad-b966-05e97c9d5d28"
      },
      "source": [
        "!pip install pnlp"
      ],
      "execution_count": 41,
      "outputs": [
        {
          "output_type": "stream",
          "text": [
            "Requirement already satisfied: pnlp in /usr/local/lib/python3.6/dist-packages (0.3.5)\n",
            "Requirement already satisfied: addict in /usr/local/lib/python3.6/dist-packages (from pnlp) (2.4.0)\n",
            "Requirement already satisfied: pyyaml in /usr/local/lib/python3.6/dist-packages (from pnlp) (3.13)\n",
            "Requirement already satisfied: numpy in /usr/local/lib/python3.6/dist-packages (from pnlp) (1.19.4)\n"
          ],
          "name": "stdout"
        }
      ]
    },
    {
      "cell_type": "code",
      "metadata": {
        "colab": {
          "base_uri": "https://localhost:8080/"
        },
        "id": "KX3ZsM_OIAeF",
        "outputId": "10a050f5-3489-4c0c-cf9c-262963778b66"
      },
      "source": [
        "!source env list"
      ],
      "execution_count": 49,
      "outputs": [
        {
          "output_type": "stream",
          "text": [
            "/bin/bash: line 0: source: /usr/bin/env: cannot execute binary file\n"
          ],
          "name": "stdout"
        }
      ]
    },
    {
      "cell_type": "code",
      "metadata": {
        "id": "lrMeQqdILH8Z"
      },
      "source": [
        "!"
      ],
      "execution_count": null,
      "outputs": []
    }
  ]
}